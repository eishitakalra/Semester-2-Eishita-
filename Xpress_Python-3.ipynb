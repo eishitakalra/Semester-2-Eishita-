{
 "cells": [
  {
   "cell_type": "markdown",
   "id": "faac84fc",
   "metadata": {},
   "source": [
    "# Using Xpress in python"
   ]
  },
  {
   "cell_type": "markdown",
   "id": "f40ecce6",
   "metadata": {},
   "source": [
    "Before we can start using the Xpress package that we have just installed we will need to begin by importing it."
   ]
  },
  {
   "cell_type": "code",
   "execution_count": null,
   "id": "6778364c",
   "metadata": {},
   "outputs": [],
   "source": [
    "import xpress as xp\n",
    "import pandas as pd\n",
    "import numpy as np"
   ]
  },
  {
   "cell_type": "markdown",
   "id": "d2a69b7c",
   "metadata": {},
   "source": [
    "Lets begin by writing some code to solve the simple linear programming problem\n",
    "\n",
    "min $z = x +y$\n",
    "\n",
    "s.t. \n",
    "\n",
    "$2x + y \\ge 1$,\n",
    "\n",
    "$x +2y \\ge 1$,\n",
    "     \n",
    "$ -1 \\ge y \\le 1$.\n",
    "\n",
    "The first thing we need to do is create a problem. "
   ]
  },
  {
   "cell_type": "code",
   "execution_count": null,
   "id": "29f78a81",
   "metadata": {},
   "outputs": [],
   "source": [
    "# Create a problem called myproblem\n",
    "\n",
    "prob = xp.problem(name='myproblem')"
   ]
  },
  {
   "cell_type": "markdown",
   "id": "bbe387d6",
   "metadata": {},
   "source": [
    "We are now ready to define our variables using the xp.var function:\n",
    "\n",
    "`var(name, lb, ub, threshold, vartype)`\n",
    " \n",
    "The `name`, `lb` and `up` arguments are self explanatory. The `threshold` argument is the threshold for semi-continuous, semi-integer, and partially integer variables and the `vartype` argument is used to set the variable type (`continuous`, `binary`, `integer` ect.).\n",
    "\n",
    "Once the variables are defined we will add them to our problem."
   ]
  },
  {
   "cell_type": "code",
   "execution_count": null,
   "id": "0a0582ec",
   "metadata": {},
   "outputs": [],
   "source": [
    "# Create the x and y variables\n",
    "x = xp.var('x')\n",
    "y = xp.var('y',lb=-1, ub=1)\n",
    "\n",
    "# Add the variables to the problem\n",
    "\n",
    "prob.addVariable(x,y)"
   ]
  },
  {
   "cell_type": "markdown",
   "id": "1c881cab",
   "metadata": {},
   "source": [
    "We can now begin to add our constraints. To do this we will use the xp.constraints function:"
   ]
  },
  {
   "cell_type": "code",
   "execution_count": null,
   "id": "be05e982",
   "metadata": {},
   "outputs": [],
   "source": [
    "prob.addConstraint(2*x + y >= 1)\n",
    "prob.addConstraint(x + 2*y >= 1)"
   ]
  },
  {
   "cell_type": "markdown",
   "id": "8ad053ad",
   "metadata": {},
   "source": [
    "We can now define our objective function using the `xp.setObjective()` function:\n",
    "\n",
    "`setObjective(objective, sense)`\n",
    "\n",
    "The `objective` is the expression defining the new objective and `sense` is either `xp.minimize` or `xp.maximize`(note that it must be American spelling)."
   ]
  },
  {
   "cell_type": "code",
   "execution_count": null,
   "id": "e1514978",
   "metadata": {},
   "outputs": [],
   "source": [
    "obj = x + y\n",
    "prob.setObjective(obj, sense = xp.minimize)"
   ]
  },
  {
   "cell_type": "markdown",
   "id": "f1254b78",
   "metadata": {},
   "source": [
    "We can now solve the problem!"
   ]
  },
  {
   "cell_type": "code",
   "execution_count": null,
   "id": "0b2405a4",
   "metadata": {},
   "outputs": [],
   "source": [
    "xp.setOutputEnabled(True)\n",
    "prob.solve()"
   ]
  },
  {
   "cell_type": "markdown",
   "id": "93326524",
   "metadata": {},
   "source": [
    "In the above cell, we can turn off the log output by changing `xp.setOutputEnabled(True)` to `False`. \n",
    "\n",
    "It might now be a good idea to print out the results."
   ]
  },
  {
   "cell_type": "code",
   "execution_count": null,
   "id": "637981f5",
   "metadata": {},
   "outputs": [],
   "source": [
    "print(f'x =  {prob.getSolution(x)}')\n",
    "print(f'y =  {prob.getSolution(y)}') \n",
    "print(f'The objective function value is {prob.getObjVal()}') "
   ]
  },
  {
   "cell_type": "markdown",
   "id": "e7583302",
   "metadata": {},
   "source": [
    "This is a very simple example, lets try to solve a more complex problem. Remember the sailco example from the week 2 lecture.\n",
    "\n",
    "$$\\begin{array}{lll}\n",
    "\t\t \\min & \\displaystyle\\sum_{t=1}^4 400x_{1t} + \\sum_{t=1}^4 35x_{2t} + \\sum_{t=1}^4 50i_{1t} + \\sum_{t=1}^4 2i_{2t}\\\\\n",
    "\t\t \\text{s.t.} & 20x_{1t} + 3x_{2t} \\leq 1860, & t=1,2,3,4,\\\\\n",
    "\t\t & y_{it}\\geq d_{i,t}, &  t=1,2,3,4,\\\\\n",
    "\t\t & i_{p1} = x_{p1} - y_{p1}, & p=1,2,\\\\\n",
    "\t\t & i_{pt} = i_{p,t-1} + x_{pt} - y_{pt}, & p=1,2, \\ t=2,3,4,\\\\\n",
    "\t\t & i_{pt}, x_{pt}, y_{pt} \\geq 0, & p=1,2, \\ t=1,2,3,4\n",
    "\t\t \\end{array}$$\n",
    "with demand \n",
    "\n",
    "\n",
    "|           | Spring | Summer | Autumn | Winter |\n",
    "|-----------|--------|--------|--------|--------|\n",
    "| Sailboat  | 40     | 60     | 75     | 25     |\n",
    "| Surfboard | 190    | 350    | 130    | 20     |\n",
    "\n",
    "lets solve this problem. Lets begin by creating a numpy array containing our demand data."
   ]
  },
  {
   "cell_type": "code",
   "execution_count": null,
   "id": "21cc961f",
   "metadata": {},
   "outputs": [],
   "source": [
    "# Creating the demand matrix\n",
    "\n",
    "demand = np.array([[ 40, 60, 75, 25],[190, 350, 130, 20]])\n",
    "print(demand)\n",
    "\n",
    "# Creating lists with seasons and products\n",
    "\n",
    "product_names = ['Sailboat', 'Surfboard']\n",
    "season_names = ['Spring', 'Summer', 'Autumn', 'Winter']"
   ]
  },
  {
   "cell_type": "markdown",
   "id": "9431a44b",
   "metadata": {},
   "source": [
    "Now lets define our index sets."
   ]
  },
  {
   "cell_type": "code",
   "execution_count": null,
   "id": "a1c66d13",
   "metadata": {},
   "outputs": [],
   "source": [
    "# Defining the index sets\n",
    "\n",
    "number_of_products = 2\n",
    "number_of_periods = 4\n",
    "Products = range(number_of_products)\n",
    "Periods = range(number_of_periods)"
   ]
  },
  {
   "cell_type": "markdown",
   "id": "4ac9e5d7",
   "metadata": {},
   "source": [
    "Now lets define our problem and decision variables using numpy arrays."
   ]
  },
  {
   "cell_type": "code",
   "execution_count": null,
   "id": "fdd76c6f",
   "metadata": {},
   "outputs": [],
   "source": [
    "# Define the problem\n",
    "prob = xp.problem('Sailco')\n",
    "\n",
    "# Define our decision variable as a numpy array\n",
    "# We use the reshape function to make the numpy array a matrix\n",
    "make = np.array([xp.var( name='make_{0}_{1}'.format(i+1,j+1))\n",
    "                    for i in Products for j in Periods], dtype=xp.npvar).reshape(number_of_products,number_of_periods)\n",
    "sell = np.array([xp.var( name='sell_{0}_{1}'.format(i+1,j+1))\n",
    "                    for i in Products for j in Periods], dtype=xp.npvar).reshape(number_of_products,number_of_periods)\n",
    "inventory = np.array([xp.var( name='inventory_{0}_{1}'.format(i+1,j+1))\n",
    "                    for i in Products for j in Periods], dtype=xp.npvar).reshape(number_of_products,number_of_periods)\n",
    "\n",
    "print(make)\n",
    "\n",
    "prob.addVariable(make,sell,inventory)"
   ]
  },
  {
   "cell_type": "markdown",
   "id": "cd51bc7f",
   "metadata": {},
   "source": [
    "Lets add our constraints"
   ]
  },
  {
   "cell_type": "code",
   "execution_count": null,
   "id": "0ef6fa2d",
   "metadata": {},
   "outputs": [],
   "source": [
    "# Labour restriction\n",
    "prob.addConstraint(20*make[0,t] + 3*make[1,t] <= 1860 for t in Periods)\n",
    "\n",
    "# Demand constraints\n",
    "prob.addConstraint(sell[i,t] >= demand[i,t] for i in Products for t in Periods)\n",
    "\n",
    "# Inventory ballance for all times except first time period\n",
    "prob.addConstraint(inventory[i,t] == inventory[i,t-1] + make[i,t] - sell[i,t] for i in Products for t in Periods if t != 0)\n",
    "\n",
    "\n",
    "# Inventory ballance for first time period\n",
    "prob.addConstraint(inventory[i,0] == make[i,0] -sell[i,0] for i in Products)"
   ]
  },
  {
   "cell_type": "markdown",
   "id": "68c5e534",
   "metadata": {},
   "source": [
    "Now lets add our objective function. Note how we use the the sum function contained in the Xpress module rather than the native python operator. This is for efficiency reasons "
   ]
  },
  {
   "cell_type": "code",
   "execution_count": null,
   "id": "a3d4cce5",
   "metadata": {},
   "outputs": [],
   "source": [
    "# Define the objective function\n",
    "\n",
    "prob.setObjective(400*xp.Sum(make[0,t] for t in Periods) + 35*xp.Sum(make[1,t] for t in Periods) + \n",
    "                  50*xp.Sum(inventory[0,t] for t in Periods) +  2*xp.Sum(inventory[1,t] for t in Periods), \n",
    "                  sense = xp.minimize)"
   ]
  },
  {
   "cell_type": "markdown",
   "id": "4cdc8c45",
   "metadata": {},
   "source": [
    "Sometimes it is good to check our problem before we solve it, we can do this by saving the corresponding `lp` file. This is very useful for debugging."
   ]
  },
  {
   "cell_type": "code",
   "execution_count": null,
   "id": "8cb3dd4e",
   "metadata": {},
   "outputs": [],
   "source": [
    "prob.write(\"problem\",\"lp\")"
   ]
  },
  {
   "cell_type": "code",
   "execution_count": null,
   "id": "37c80722",
   "metadata": {},
   "outputs": [],
   "source": [
    "xp.setOutputEnabled(False)\n",
    "prob.solve()"
   ]
  },
  {
   "cell_type": "markdown",
   "id": "461232db",
   "metadata": {},
   "source": [
    "Lets add our solutions to data frames. "
   ]
  },
  {
   "cell_type": "code",
   "execution_count": null,
   "id": "15c5ca5b",
   "metadata": {},
   "outputs": [],
   "source": [
    "# Add the solutions into a dataframe\n",
    "\n",
    "make_df = pd.DataFrame(data = prob.getSolution(make), index = product_names, columns = season_names)\n",
    "sell_df = pd.DataFrame(data = prob.getSolution(sell), index = product_names, columns = season_names)\n",
    "inventory_df = pd.DataFrame(data = prob.getSolution(inventory), index = product_names, columns = season_names)\n",
    "\n",
    "make_df = make_df.style.set_caption('Make')\n",
    "sell_df = sell_df.style.set_caption('Sell')\n",
    "inventory_df = inventory_df.style.set_caption('Inventory')\n",
    "\n",
    "display(make_df)\n",
    "display(sell_df)\n",
    "display(inventory_df)"
   ]
  },
  {
   "cell_type": "markdown",
   "id": "ad2d16df",
   "metadata": {},
   "source": [
    "In some cases we might want to use dictionaries to define our decision variables. Lets consider the sudoku problem from week. We will start off by defining the dimension of the sudoku puzzle and by creating the initial puzzle."
   ]
  },
  {
   "cell_type": "code",
   "execution_count": null,
   "id": "c32daee5",
   "metadata": {},
   "outputs": [],
   "source": [
    "# The input is a starting grid where the unknown numbers are replaced by zero\n",
    "# q is the dimension of the sub blocks\n",
    "q = 3\n",
    "\n",
    "starting_grid = \\\n",
    " [[8, 0, 0, 0, 0, 0, 0, 0, 0],\n",
    "  [0, 0, 3, 6, 0, 0, 0, 0, 0],\n",
    "  [0, 7, 0, 0, 9, 0, 2, 0, 0],\n",
    "  [0, 5, 0, 0, 0, 7, 0, 0, 0],\n",
    "  [0, 0, 0, 0, 4, 5, 7, 0, 0],\n",
    "  [0, 0, 0, 1, 0, 0, 0, 3, 0],\n",
    "  [0, 0, 1, 0, 0, 0, 0, 6, 8],\n",
    "  [0, 0, 8, 5, 0, 0, 0, 1, 0],\n",
    "  [0, 9, 0, 0, 0, 0, 4, 0, 0]]"
   ]
  },
  {
   "cell_type": "markdown",
   "id": "40413bf2",
   "metadata": {},
   "source": [
    "We will now define our decision variables $x_{i,j,k}$ as a dictionary."
   ]
  },
  {
   "cell_type": "code",
   "execution_count": null,
   "id": "d4543ab0",
   "metadata": {},
   "outputs": [],
   "source": [
    "n = q**2  # the size must be the square of the size of the subgrids\n",
    "N = range(n)\n",
    "\n",
    "x = {(i, j, k): xp.var(vartype=xp.binary, name='x{0}_{1}_{2}'.format(i, j, k))\n",
    "     for i in N for j in N for k in N}\n",
    "\n",
    "print(x)"
   ]
  },
  {
   "cell_type": "markdown",
   "id": "cfacb5bf",
   "metadata": {},
   "source": [
    "Before we define our constraints lest define the box index set."
   ]
  },
  {
   "cell_type": "code",
   "execution_count": null,
   "id": "3590a49e",
   "metadata": {},
   "outputs": [],
   "source": [
    "# define all q^2 subgrids\n",
    "subgrids = {(h, l): [(i, j) for i in range(q*h, q*h + q)\n",
    "            for j in range(q*l, q*l + q)]\n",
    "            for h in range(q)\n",
    "            for l in range(q)}\n",
    "print(subgrids)"
   ]
  },
  {
   "cell_type": "markdown",
   "id": "290e1655",
   "metadata": {},
   "source": [
    "Now lets define all the constraints"
   ]
  },
  {
   "cell_type": "code",
   "execution_count": null,
   "id": "65dc78e4",
   "metadata": {},
   "outputs": [],
   "source": [
    "vertical = [xp.Sum(x[i, j, k] for i in N) == 1 for j in N for k in N]\n",
    "horizontal = [xp.Sum(x[i, j, k] for j in N) == 1 for i in N for k in N]\n",
    "subgrid = [xp.Sum(x[i, j, k] for (i, j) in subgrids[h, l]) == 1\n",
    "           for (h, l) in subgrids.keys() for k in N]\n",
    "\n",
    "# Assign exactly one number to each cell\n",
    "\n",
    "assign = [xp.Sum(x[i, j, k] for k in N) == 1 for i in N for j in N]\n",
    "\n",
    "# Fix those variables that are non-zero in the input grid\n",
    "\n",
    "init = [x[i, j, k] == 1 for k in N for i in N for j in N\n",
    "        if starting_grid[i][j] == k+1]\n",
    "print(vertical)"
   ]
  },
  {
   "cell_type": "markdown",
   "id": "d26ad497",
   "metadata": {},
   "source": [
    "We are now ready to define the problem, add our constraints and decision variables."
   ]
  },
  {
   "cell_type": "code",
   "execution_count": null,
   "id": "4417feda",
   "metadata": {},
   "outputs": [],
   "source": [
    "# Define the problem\n",
    "p = xp.problem()\n",
    "\n",
    "# Include decision variables\n",
    "p.addVariable(x)\n",
    "\n",
    "# Include constraints\n",
    "p.addConstraint(vertical, horizontal, subgrid, assign, init)"
   ]
  },
  {
   "cell_type": "markdown",
   "id": "c6f42805",
   "metadata": {},
   "source": [
    "Now lets solve the problem!"
   ]
  },
  {
   "cell_type": "code",
   "execution_count": null,
   "id": "f37cdf8b",
   "metadata": {},
   "outputs": [],
   "source": [
    "p.solve()\n",
    "\n",
    "print('Solution:')\n",
    "\n",
    "for i in N:\n",
    "    for j in N:\n",
    "        l = [k for k in N if p.getSolution(x[i, j, k]) >= 0.5]\n",
    "        assert(len(l) == 1)\n",
    "        print('{0:2d}'.format(1 + l[0]), end='', sep='')\n",
    "    print('')"
   ]
  },
  {
   "cell_type": "code",
   "execution_count": null,
   "id": "391af988",
   "metadata": {},
   "outputs": [],
   "source": []
  }
 ],
 "metadata": {
  "kernelspec": {
   "display_name": "Python 3 (ipykernel)",
   "language": "python",
   "name": "python3"
  },
  "language_info": {
   "codemirror_mode": {
    "name": "ipython",
    "version": 3
   },
   "file_extension": ".py",
   "mimetype": "text/x-python",
   "name": "python",
   "nbconvert_exporter": "python",
   "pygments_lexer": "ipython3",
   "version": "3.12.5"
  },
  "varInspector": {
   "cols": {
    "lenName": 16,
    "lenType": 16,
    "lenVar": 40
   },
   "kernels_config": {
    "python": {
     "delete_cmd_postfix": "",
     "delete_cmd_prefix": "del ",
     "library": "var_list.py",
     "varRefreshCmd": "print(var_dic_list())"
    },
    "r": {
     "delete_cmd_postfix": ") ",
     "delete_cmd_prefix": "rm(",
     "library": "var_list.r",
     "varRefreshCmd": "cat(var_dic_list()) "
    }
   },
   "types_to_exclude": [
    "module",
    "function",
    "builtin_function_or_method",
    "instance",
    "_Feature"
   ],
   "window_display": false
  }
 },
 "nbformat": 4,
 "nbformat_minor": 5
}
